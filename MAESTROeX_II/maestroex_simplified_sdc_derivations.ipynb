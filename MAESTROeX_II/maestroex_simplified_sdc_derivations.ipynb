{
 "cells": [
  {
   "cell_type": "markdown",
   "metadata": {},
   "source": [
    "# Derivations for the Castro Simplified-SDC Solver\n"
   ]
  },
  {
   "cell_type": "code",
   "execution_count": 2,
   "metadata": {},
   "outputs": [
    {
     "name": "stdout",
     "output_type": "stream",
     "text": [
      "IPython console for SymPy 1.4 (Python 3.7.5-64-bit) (ground types: gmpy)\n",
      "\n",
      "These commands were executed:\n",
      ">>> from __future__ import division\n",
      ">>> from sympy import *\n",
      ">>> x, y, z, t = symbols('x y z t')\n",
      ">>> k, m, n = symbols('k m n', integer=True)\n",
      ">>> f, g, h = symbols('f g h', cls=Function)\n",
      ">>> init_printing()\n",
      "\n",
      "Documentation can be found at https://docs.sympy.org/1.4/\n",
      "\n"
     ]
    }
   ],
   "source": [
    "from sympy import init_session\n",
    "init_session()"
   ]
  },
  {
   "cell_type": "markdown",
   "metadata": {},
   "source": [
    "## Jacobian\n",
    "\n",
    "We want to compute the Jacobian $\\partial w/\\partial \\mathcal{U}$ with\n",
    "\n",
    "$\\mathcal{U} = (\\rho X_\\alpha, \\rho X_\\beta, \\rho h)^\\intercal$\n",
    "\n",
    "$w = (\\rho, X_\\alpha, X_\\beta, T)^\\intercal$\n",
    "\n",
    "We'll start by writing down\n",
    "\n",
    "$A = \\partial \\mathcal{U}/\\partial w$\n",
    "\n",
    "and then find its inverse"
   ]
  },
  {
   "cell_type": "code",
   "execution_count": 3,
   "metadata": {},
   "outputs": [],
   "source": [
    "r, h, Xa, Xb = symbols(r\"rho h X_{\\alpha} X_{\\beta}\")\n",
    "dhdr, dhdT, dhdXa, dhdXb = symbols(r\"\\frac{\\partial{}h}{\\partial\\rho} \\frac{\\partial{}h}{\\partial{}T} \" +\n",
    "                                   r\"\\frac{\\partial{}h}{\\partial{}X_{\\alpha}} \\frac{\\partial{}h}{\\partial{}X_{\\beta}}\")"
   ]
  },
  {
   "cell_type": "code",
   "execution_count": 7,
   "metadata": {},
   "outputs": [],
   "source": [
    "A = Matrix(\n",
    "    [[1, 0, 0, 0],\n",
    "     [Xa, r, 0, 0],\n",
    "     [Xb, 0, r, 0],\n",
    "     [h + r*dhdr, r*dhdXa, r*dhdXb, r*dhdT]])"
   ]
  },
  {
   "cell_type": "code",
   "execution_count": 8,
   "metadata": {},
   "outputs": [
    {
     "data": {
      "image/png": "[encoded data removed]",
      "text/latex": [
       "$\\displaystyle \\left[\\begin{matrix}1 & 0 & 0 & 0\\\\X_{\\alpha} & \\rho & 0 & 0\\\\X_{\\beta} & 0 & \\rho & 0\\\\\\frac{\\partial{}h}{\\partial\\rho} \\rho + h & \\frac{\\partial{}h}{\\partial{}X_{\\alpha}} \\rho & \\frac{\\partial{}h}{\\partial{}X_{\\beta}} \\rho & \\frac{\\partial{}h}{\\partial{}T} \\rho\\end{matrix}\\right]$"
      ],
      "text/plain": [
       "⎡                  1                                         0                \n",
       "⎢                                                                             \n",
       "⎢              X_{\\alpha}                                    ρ                \n",
       "⎢                                                                             \n",
       "⎢              X_{\\beta}                                     0                \n",
       "⎢                                                                             \n",
       "⎣\\frac{\\partial{}h}{\\partial\\rho}⋅ρ + h  \\frac{\\partial{}h}{\\partial{}X_{\\alph\n",
       "\n",
       "                           0                                      0           \n",
       "                                                                              \n",
       "                           0                                      0           \n",
       "                                                                              \n",
       "                           ρ                                      0           \n",
       "                                                                              \n",
       "a}}⋅ρ  \\frac{\\partial{}h}{\\partial{}X_{\\beta}}⋅ρ  \\frac{\\partial{}h}{\\partial{\n",
       "\n",
       "     ⎤\n",
       "     ⎥\n",
       "     ⎥\n",
       "     ⎥\n",
       "     ⎥\n",
       "     ⎥\n",
       "}T}⋅ρ⎦"
      ]
     },
     "execution_count": 8,
     "metadata": {},
     "output_type": "execute_result"
    }
   ],
   "source": [
    "A"
   ]
  },
  {
   "cell_type": "markdown",
   "metadata": {},
   "source": [
    "The inverse of $A$ is $\\partial w/\\partial \\mathcal{U}$"
   ]
  },
  {
   "cell_type": "code",
   "execution_count": 9,
   "metadata": {},
   "outputs": [
    {
     "data": {
      "image/png": "[encoded data removed]",
      "text/latex": [
       "$\\displaystyle \\left[\\begin{matrix}1 & 0 & 0 & 0\\\\- \\frac{X_{\\alpha}}{\\rho} & \\frac{1}{\\rho} & 0 & 0\\\\- \\frac{X_{\\beta}}{\\rho} & 0 & \\frac{1}{\\rho} & 0\\\\\\frac{X_{\\alpha} \\frac{\\partial{}h}{\\partial{}X_{\\alpha}} + X_{\\beta} \\frac{\\partial{}h}{\\partial{}X_{\\beta}} - \\frac{\\partial{}h}{\\partial\\rho} \\rho - h}{\\frac{\\partial{}h}{\\partial{}T} \\rho} & - \\frac{\\frac{\\partial{}h}{\\partial{}X_{\\alpha}}}{\\frac{\\partial{}h}{\\partial{}T} \\rho} & - \\frac{\\frac{\\partial{}h}{\\partial{}X_{\\beta}}}{\\frac{\\partial{}h}{\\partial{}T} \\rho} & \\frac{1}{\\frac{\\partial{}h}{\\partial{}T} \\rho}\\end{matrix}\\right]$"
      ],
      "text/plain": [
       "⎡                                                                       1     \n",
       "⎢                                                                             \n",
       "⎢                                                                  -X_{\\alpha}\n",
       "⎢                                                                  ───────────\n",
       "⎢                                                                       ρ     \n",
       "⎢                                                                             \n",
       "⎢                                                                  -X_{\\beta} \n",
       "⎢                                                                  ───────────\n",
       "⎢                                                                       ρ     \n",
       "⎢                                                                             \n",
       "⎢X_{\\alpha}⋅\\frac{\\partial{}h}{\\partial{}X_{\\alpha}} + X_{\\beta}⋅\\frac{\\partia\n",
       "⎢─────────────────────────────────────────────────────────────────────────────\n",
       "⎣                                                       \\frac{\\partial{}h}{\\pa\n",
       "\n",
       "                                                                              \n",
       "                                                                              \n",
       "                                                                              \n",
       "─                                                                             \n",
       "                                                                              \n",
       "                                                                              \n",
       "                                                                              \n",
       "                                                                              \n",
       "                                                                              \n",
       "                                                                              \n",
       "l{}h}{\\partial{}X_{\\beta}} - \\frac{\\partial{}h}{\\partial\\rho}⋅ρ - h  -\\frac{\\p\n",
       "───────────────────────────────────────────────────────────────────  ─────────\n",
       "rtial{}T}⋅ρ                                                              \\frac\n",
       "\n",
       "           0                                           0                      \n",
       "                                                                              \n",
       "           1                                                                  \n",
       "           ─                                           0                      \n",
       "           ρ                                                                  \n",
       "                                                                              \n",
       "                                                       1                      \n",
       "           0                                           ─                      \n",
       "                                                       ρ                      \n",
       "                                                                              \n",
       "artial{}h}{\\partial{}X_{\\alpha}}   -\\frac{\\partial{}h}{\\partial{}X_{\\beta}}   \n",
       "─────────────────────────────────  ─────────────────────────────────────────  \n",
       "{\\partial{}h}{\\partial{}T}⋅ρ           \\frac{\\partial{}h}{\\partial{}T}⋅ρ      \n",
       "\n",
       "                0                ⎤\n",
       "                                 ⎥\n",
       "                                 ⎥\n",
       "                0                ⎥\n",
       "                                 ⎥\n",
       "                                 ⎥\n",
       "                                 ⎥\n",
       "                0                ⎥\n",
       "                                 ⎥\n",
       "                                 ⎥\n",
       "                1                ⎥\n",
       "─────────────────────────────────⎥\n",
       "\\frac{\\partial{}h}{\\partial{}T}⋅ρ⎦"
      ]
     },
     "execution_count": 9,
     "metadata": {},
     "output_type": "execute_result"
    }
   ],
   "source": [
    "simplify(A.inv())"
   ]
  },
  {
   "cell_type": "code",
   "execution_count": null,
   "metadata": {},
   "outputs": [],
   "source": []
  }
 ],
 "metadata": {
  "kernelspec": {
   "display_name": "Python 3",
   "language": "python",
   "name": "python3"
  },
  "language_info": {
   "codemirror_mode": {
    "name": "ipython",
    "version": 3
   },
   "file_extension": ".py",
   "mimetype": "text/x-python",
   "name": "python",
   "nbconvert_exporter": "python",
   "pygments_lexer": "ipython3",
   "version": "3.7.5"
  }
 },
 "nbformat": 4,
 "nbformat_minor": 4
}
