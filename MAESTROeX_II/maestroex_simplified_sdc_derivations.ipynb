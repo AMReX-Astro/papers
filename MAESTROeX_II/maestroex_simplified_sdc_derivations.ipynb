{
 "cells": [
  {
   "cell_type": "markdown",
   "metadata": {},
   "source": [
    "# Derivations for the MAESTROeX Simplified-SDC Solver\n"
   ]
  },
  {
   "cell_type": "code",
   "execution_count": 1,
   "metadata": {},
   "outputs": [
    {
     "name": "stdout",
     "output_type": "stream",
     "text": [
      "IPython console for SymPy 1.4 (Python 3.7.5-64-bit) (ground types: gmpy)\n",
      "\n",
      "These commands were executed:\n",
      ">>> from __future__ import division\n",
      ">>> from sympy import *\n",
      ">>> x, y, z, t = symbols('x y z t')\n",
      ">>> k, m, n = symbols('k m n', integer=True)\n",
      ">>> f, g, h = symbols('f g h', cls=Function)\n",
      ">>> init_printing()\n",
      "\n",
      "Documentation can be found at https://docs.sympy.org/1.4/\n",
      "\n"
     ]
    }
   ],
   "source": [
    "from sympy import init_session\n",
    "init_session()"
   ]
  },
  {
   "cell_type": "markdown",
   "metadata": {},
   "source": [
    "## Jacobian\n",
    "\n",
    "We want to compute the Jacobian $\\partial w/\\partial \\mathcal{U}$ with\n",
    "\n",
    "$\\mathcal{U} = (\\rho X_\\alpha, \\rho X_\\beta, \\rho h, \\rho)^\\intercal$\n",
    "\n",
    "$w = (\\rho, X_\\alpha, X_\\beta, T)^\\intercal$\n",
    "\n",
    "We'll start by writing down\n",
    "\n",
    "$A = \\partial \\mathcal{U}/\\partial w$\n",
    "\n",
    "and then find its inverse"
   ]
  },
  {
   "cell_type": "code",
   "execution_count": 2,
   "metadata": {},
   "outputs": [],
   "source": [
    "r, h, Xa, Xb = symbols(r\"rho h X_{\\alpha} X_{\\beta}\")\n",
    "dhdr, dhdT, dhdXa, dhdXb = symbols(r\"\\frac{\\partial{}h}{\\partial\\rho} \\frac{\\partial{}h}{\\partial{}T} \" +\n",
    "                                   r\"\\frac{\\partial{}h}{\\partial{}X_{\\alpha}} \\frac{\\partial{}h}{\\partial{}X_{\\beta}}\")"
   ]
  },
  {
   "cell_type": "code",
   "execution_count": 3,
   "metadata": {},
   "outputs": [],
   "source": [
    "A = Matrix(\n",
    "    [[Xa, r, 0, 0],\n",
    "     [Xb, 0, r, 0],\n",
    "     [h + r*dhdr, r*dhdXa, r*dhdXb, r*dhdT],\n",
    "     [1, 0, 0, 0]])"
   ]
  },
  {
   "cell_type": "code",
   "execution_count": 4,
   "metadata": {},
   "outputs": [
    {
     "data": {
      "image/png": "[encoded data removed]",
      "text/latex": [
       "$\\displaystyle \\left[\\begin{matrix}X_{\\alpha} & \\rho & 0 & 0\\\\X_{\\beta} & 0 & \\rho & 0\\\\\\frac{\\partial{}h}{\\partial\\rho} \\rho + h & \\frac{\\partial{}h}{\\partial{}X_{\\alpha}} \\rho & \\frac{\\partial{}h}{\\partial{}X_{\\beta}} \\rho & \\frac{\\partial{}h}{\\partial{}T} \\rho\\\\1 & 0 & 0 & 0\\end{matrix}\\right]$"
      ],
      "text/plain": [
       "⎡              X_{\\alpha}                                    ρ                \n",
       "⎢                                                                             \n",
       "⎢              X_{\\beta}                                     0                \n",
       "⎢                                                                             \n",
       "⎢\\frac{\\partial{}h}{\\partial\\rho}⋅ρ + h  \\frac{\\partial{}h}{\\partial{}X_{\\alph\n",
       "⎢                                                                             \n",
       "⎣                  1                                         0                \n",
       "\n",
       "                           0                                      0           \n",
       "                                                                              \n",
       "                           ρ                                      0           \n",
       "                                                                              \n",
       "a}}⋅ρ  \\frac{\\partial{}h}{\\partial{}X_{\\beta}}⋅ρ  \\frac{\\partial{}h}{\\partial{\n",
       "                                                                              \n",
       "                           0                                      0           \n",
       "\n",
       "     ⎤\n",
       "     ⎥\n",
       "     ⎥\n",
       "     ⎥\n",
       "}T}⋅ρ⎥\n",
       "     ⎥\n",
       "     ⎦"
      ]
     },
     "execution_count": 4,
     "metadata": {},
     "output_type": "execute_result"
    }
   ],
   "source": [
    "A"
   ]
  },
  {
   "cell_type": "markdown",
   "metadata": {},
   "source": [
    "The inverse of $A$ is $\\partial w/\\partial \\mathcal{U}$"
   ]
  },
  {
   "cell_type": "code",
   "execution_count": 5,
   "metadata": {},
   "outputs": [
    {
     "data": {
      "image/png": "[encoded data removed]",
      "text/latex": [
       "$\\displaystyle \\left[\\begin{matrix}0 & 0 & 0 & 1\\\\\\frac{1}{\\rho} & 0 & 0 & - \\frac{X_{\\alpha}}{\\rho}\\\\0 & \\frac{1}{\\rho} & 0 & - \\frac{X_{\\beta}}{\\rho}\\\\- \\frac{\\frac{\\partial{}h}{\\partial{}X_{\\alpha}}}{\\frac{\\partial{}h}{\\partial{}T} \\rho} & - \\frac{\\frac{\\partial{}h}{\\partial{}X_{\\beta}}}{\\frac{\\partial{}h}{\\partial{}T} \\rho} & \\frac{1}{\\frac{\\partial{}h}{\\partial{}T} \\rho} & \\frac{X_{\\alpha} \\frac{\\partial{}h}{\\partial{}X_{\\alpha}} + X_{\\beta} \\frac{\\partial{}h}{\\partial{}X_{\\beta}} - \\frac{\\partial{}h}{\\partial\\rho} \\rho - h}{\\frac{\\partial{}h}{\\partial{}T} \\rho}\\end{matrix}\\right]$"
      ],
      "text/plain": [
       "⎡                    0                                           0            \n",
       "⎢                                                                             \n",
       "⎢                    1                                                        \n",
       "⎢                    ─                                           0            \n",
       "⎢                    ρ                                                        \n",
       "⎢                                                                             \n",
       "⎢                                                                1            \n",
       "⎢                    0                                           ─            \n",
       "⎢                                                                ρ            \n",
       "⎢                                                                             \n",
       "⎢-\\frac{\\partial{}h}{\\partial{}X_{\\alpha}}   -\\frac{\\partial{}h}{\\partial{}X_{\n",
       "⎢──────────────────────────────────────────  ─────────────────────────────────\n",
       "⎣    \\frac{\\partial{}h}{\\partial{}T}⋅ρ           \\frac{\\partial{}h}{\\partial{}\n",
       "\n",
       "                          0                                                   \n",
       "                                                                              \n",
       "                                                                              \n",
       "                          0                                                   \n",
       "                                                                              \n",
       "                                                                              \n",
       "                                                                              \n",
       "                          0                                                   \n",
       "                                                                              \n",
       "                                                                              \n",
       "\\beta}}                   1                  X_{\\alpha}⋅\\frac{\\partial{}h}{\\pa\n",
       "────────  ─────────────────────────────────  ─────────────────────────────────\n",
       "T}⋅ρ      \\frac{\\partial{}h}{\\partial{}T}⋅ρ                                   \n",
       "\n",
       "                                      1                                       \n",
       "                                                                              \n",
       "                                 -X_{\\alpha}                                  \n",
       "                                 ────────────                                 \n",
       "                                      ρ                                       \n",
       "                                                                              \n",
       "                                 -X_{\\beta}                                   \n",
       "                                 ───────────                                  \n",
       "                                      ρ                                       \n",
       "                                                                              \n",
       "rtial{}X_{\\alpha}} + X_{\\beta}⋅\\frac{\\partial{}h}{\\partial{}X_{\\beta}} - \\frac\n",
       "──────────────────────────────────────────────────────────────────────────────\n",
       "                      \\frac{\\partial{}h}{\\partial{}T}⋅ρ                       \n",
       "\n",
       "                                 ⎤\n",
       "                                 ⎥\n",
       "                                 ⎥\n",
       "                                 ⎥\n",
       "                                 ⎥\n",
       "                                 ⎥\n",
       "                                 ⎥\n",
       "                                 ⎥\n",
       "                                 ⎥\n",
       "                                 ⎥\n",
       "{\\partial{}h}{\\partial\\rho}⋅ρ - h⎥\n",
       "─────────────────────────────────⎥\n",
       "                                 ⎦"
      ]
     },
     "execution_count": 5,
     "metadata": {},
     "output_type": "execute_result"
    }
   ],
   "source": [
    "simplify(A.inv())"
   ]
  },
  {
   "cell_type": "code",
   "execution_count": null,
   "metadata": {},
   "outputs": [],
   "source": []
  }
 ],
 "metadata": {
  "kernelspec": {
   "display_name": "Python 3",
   "language": "python",
   "name": "python3"
  },
  "language_info": {
   "codemirror_mode": {
    "name": "ipython",
    "version": 3
   },
   "file_extension": ".py",
   "mimetype": "text/x-python",
   "name": "python",
   "nbconvert_exporter": "python",
   "pygments_lexer": "ipython3",
   "version": "3.7.5"
  }
 },
 "nbformat": 4,
 "nbformat_minor": 4
}
