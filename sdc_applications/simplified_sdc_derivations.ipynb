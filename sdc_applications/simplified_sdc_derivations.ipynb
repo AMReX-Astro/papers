{
 "cells": [
  {
   "cell_type": "markdown",
   "metadata": {},
   "source": [
    "# Derivations for the Castro Simplified-SDC Solver\n"
   ]
  },
  {
   "cell_type": "code",
   "execution_count": 1,
   "metadata": {},
   "outputs": [
    {
     "name": "stdout",
     "output_type": "stream",
     "text": [
      "IPython console for SymPy 1.3 (Python 3.7.7-64-bit) (ground types: python)\n",
      "\n",
      "These commands were executed:\n",
      ">>> from __future__ import division\n",
      ">>> from sympy import *\n",
      ">>> x, y, z, t = symbols('x y z t')\n",
      ">>> k, m, n = symbols('k m n', integer=True)\n",
      ">>> f, g, h = symbols('f g h', cls=Function)\n",
      ">>> init_printing()\n",
      "\n",
      "Documentation can be found at http://docs.sympy.org/1.3/\n",
      "\n"
     ]
    }
   ],
   "source": [
    "from sympy import init_session\n",
    "init_session()"
   ]
  },
  {
   "cell_type": "markdown",
   "metadata": {},
   "source": [
    "## Jacobian\n",
    "\n",
    "We want to compute the Jacobian $\\partial w/\\partial \\mathcal{U}$ with\n",
    "\n",
    "$\\mathcal{U} = (\\rho X_\\alpha, \\rho X_\\beta, \\rho E, \\rho e)^\\intercal$\n",
    "\n",
    "$w = (\\rho, X_\\alpha, X_\\beta, T)^\\intercal$\n",
    "\n",
    "We'll start by writing down\n",
    "\n",
    "$A = \\partial \\mathcal{U}/\\partial w$\n",
    "\n",
    "and then find its inverse"
   ]
  },
  {
   "cell_type": "code",
   "execution_count": 2,
   "metadata": {},
   "outputs": [],
   "source": [
    "r, E, e, Xa, Xb, U, K = symbols(r\"rho E e X_{\\alpha} X_{\\beta} U K\")\n",
    "dedr, dedT, dedXa, dedXb = symbols(r\"\\frac{\\partial{}e}{\\partial\\rho} \\frac{\\partial{}e}{\\partial{}T} \" +\n",
    "                                   r\"\\frac{\\partial{}e}{\\partial{}X_{\\alpha}} \\frac{\\partial{}e}{\\partial{}X_{\\beta}}\")"
   ]
  },
  {
   "cell_type": "code",
   "execution_count": 3,
   "metadata": {},
   "outputs": [],
   "source": [
    "A = Matrix(\n",
    "    [[Xa, r, 0, 0],\n",
    "     [Xb, 0, r, 0],\n",
    "     [e + r*dedr + Rational(1, 2)*U**2, r*dedXa, r*dedXb, r*dedT],     \n",
    "     [e + r*dedr, r*dedXa, r*dedXb, r*dedT]])"
   ]
  },
  {
   "cell_type": "code",
   "execution_count": 4,
   "metadata": {},
   "outputs": [
    {
     "data": {
      "image/png": "[encoded data removed]",
      "text/latex": [
       "$$\\left[\\begin{matrix}X_{\\alpha} & \\rho & 0 & 0\\\\X_{\\beta} & 0 & \\rho & 0\\\\\\frac{U^{2}}{2} + \\frac{\\partial{}e}{\\partial\\rho} \\rho + e & \\frac{\\partial{}e}{\\partial{}X_{\\alpha}} \\rho & \\frac{\\partial{}e}{\\partial{}X_{\\beta}} \\rho & \\frac{\\partial{}e}{\\partial{}T} \\rho\\\\\\frac{\\partial{}e}{\\partial\\rho} \\rho + e & \\frac{\\partial{}e}{\\partial{}X_{\\alpha}} \\rho & \\frac{\\partial{}e}{\\partial{}X_{\\beta}} \\rho & \\frac{\\partial{}e}{\\partial{}T} \\rho\\end{matrix}\\right]$$"
      ],
      "text/plain": [
       "⎡                X_{\\alpha}                                       ρ           \n",
       "⎢                                                                             \n",
       "⎢                 X_{\\beta}                                       0           \n",
       "⎢                                                                             \n",
       "⎢ 2                                                                           \n",
       "⎢U                                                                            \n",
       "⎢── + \\frac{\\partial{}e}{\\partial\\rho}⋅ρ + e  \\frac{\\partial{}e}{\\partial{}X_{\n",
       "⎢2                                                                            \n",
       "⎢                                                                             \n",
       "⎣  \\frac{\\partial{}e}{\\partial\\rho}⋅ρ + e     \\frac{\\partial{}e}{\\partial{}X_{\n",
       "\n",
       "                                0                                      0      \n",
       "                                                                              \n",
       "                                ρ                                      0      \n",
       "                                                                              \n",
       "                                                                              \n",
       "                                                                              \n",
       "\\alpha}}⋅ρ  \\frac{\\partial{}e}{\\partial{}X_{\\beta}}⋅ρ  \\frac{\\partial{}e}{\\par\n",
       "                                                                              \n",
       "                                                                              \n",
       "\\alpha}}⋅ρ  \\frac{\\partial{}e}{\\partial{}X_{\\beta}}⋅ρ  \\frac{\\partial{}e}{\\par\n",
       "\n",
       "          ⎤\n",
       "          ⎥\n",
       "          ⎥\n",
       "          ⎥\n",
       "          ⎥\n",
       "          ⎥\n",
       "tial{}T}⋅ρ⎥\n",
       "          ⎥\n",
       "          ⎥\n",
       "tial{}T}⋅ρ⎦"
      ]
     },
     "execution_count": 4,
     "metadata": {},
     "output_type": "execute_result"
    }
   ],
   "source": [
    "A"
   ]
  },
  {
   "cell_type": "markdown",
   "metadata": {},
   "source": [
    "The inverse of $A$ is $\\partial w/\\partial \\mathcal{U}$"
   ]
  },
  {
   "cell_type": "code",
   "execution_count": 5,
   "metadata": {},
   "outputs": [
    {
     "data": {
      "image/png": "[encoded data removed]",
      "text/latex": [
       "$$\\left[\\begin{matrix}0 & 0 & \\frac{2}{U^{2}} & - \\frac{2}{U^{2}}\\\\\\frac{1}{\\rho} & 0 & - \\frac{2 X_{\\alpha}}{U^{2} \\rho} & \\frac{2 X_{\\alpha}}{U^{2} \\rho}\\\\0 & \\frac{1}{\\rho} & - \\frac{2 X_{\\beta}}{U^{2} \\rho} & \\frac{2 X_{\\beta}}{U^{2} \\rho}\\\\- \\frac{\\frac{\\partial{}e}{\\partial{}X_{\\alpha}}}{\\frac{\\partial{}e}{\\partial{}T} \\rho} & - \\frac{\\frac{\\partial{}e}{\\partial{}X_{\\beta}}}{\\frac{\\partial{}e}{\\partial{}T} \\rho} & \\frac{2 \\left(X_{\\alpha} \\frac{\\partial{}e}{\\partial{}X_{\\alpha}} + X_{\\beta} \\frac{\\partial{}e}{\\partial{}X_{\\beta}} - \\frac{\\partial{}e}{\\partial\\rho} \\rho - e\\right)}{U^{2} \\frac{\\partial{}e}{\\partial{}T} \\rho} & \\frac{U^{2} - 2 X_{\\alpha} \\frac{\\partial{}e}{\\partial{}X_{\\alpha}} - 2 X_{\\beta} \\frac{\\partial{}e}{\\partial{}X_{\\beta}} + 2 \\frac{\\partial{}e}{\\partial\\rho} \\rho + 2 e}{U^{2} \\frac{\\partial{}e}{\\partial{}T} \\rho}\\end{matrix}\\right]$$"
      ],
      "text/plain": [
       "⎡                                                                             \n",
       "⎢                    0                                           0            \n",
       "⎢                                                                             \n",
       "⎢                                                                             \n",
       "⎢                                                                             \n",
       "⎢                    1                                                        \n",
       "⎢                    ─                                           0            \n",
       "⎢                    ρ                                                        \n",
       "⎢                                                                             \n",
       "⎢                                                                             \n",
       "⎢                                                                1            \n",
       "⎢                    0                                           ─            \n",
       "⎢                                                                ρ            \n",
       "⎢                                                                             \n",
       "⎢                                                                             \n",
       "⎢                                                                             \n",
       "⎢-\\frac{\\partial{}e}{\\partial{}X_{\\alpha}}   -\\frac{\\partial{}e}{\\partial{}X_{\n",
       "⎢──────────────────────────────────────────  ─────────────────────────────────\n",
       "⎢    \\frac{\\partial{}e}{\\partial{}T}⋅ρ           \\frac{\\partial{}e}{\\partial{}\n",
       "⎣                                                                             \n",
       "\n",
       "                                                                              \n",
       "                                                                              \n",
       "                                                                              \n",
       "                                                                              \n",
       "                                                                              \n",
       "                                                                             -\n",
       "                                                                             ─\n",
       "                                                                              \n",
       "                                                                              \n",
       "                                                                              \n",
       "                                                                             -\n",
       "                                                                             ─\n",
       "                                                                              \n",
       "                                                                              \n",
       "                                                                              \n",
       "                                                                              \n",
       "\\beta}}   2⋅(X_{\\alpha}⋅\\frac{\\partial{}e}{\\partial{}X_{\\alpha}} + X_{\\beta}⋅\\\n",
       "────────  ────────────────────────────────────────────────────────────────────\n",
       "T}⋅ρ                                                               2          \n",
       "                                                                  U ⋅\\frac{\\pa\n",
       "\n",
       "     2                                                                        \n",
       "     ──                                                                       \n",
       "      2                                                                       \n",
       "     U                                                                        \n",
       "                                                                              \n",
       "2⋅X_{\\alpha}                                                                  \n",
       "─────────────                                                                 \n",
       "     2                                                                        \n",
       "    U ⋅ρ                                                                      \n",
       "                                                                              \n",
       "2⋅X_{\\beta}                                                                   \n",
       "────────────                                                                  \n",
       "     2                                                                        \n",
       "    U ⋅ρ                                                                      \n",
       "                                                                              \n",
       "                                                                              \n",
       "frac{\\partial{}e}{\\partial{}X_{\\beta}} - \\frac{\\partial{}e}{\\partial\\rho}⋅ρ - \n",
       "──────────────────────────────────────────────────────────────────────────────\n",
       "                                                                              \n",
       "rtial{}e}{\\partial{}T}⋅ρ                                                      \n",
       "\n",
       "                                                                              \n",
       "                                                                              \n",
       "                                                                              \n",
       "                                                                              \n",
       "                                                                              \n",
       "                                                                            2⋅\n",
       "                                                                            ──\n",
       "                                                                              \n",
       "                                                                              \n",
       "                                                                              \n",
       "                                                                             2\n",
       "                                                                             ─\n",
       "                                                                              \n",
       "                                                                              \n",
       "                                                                              \n",
       "     2                                                                        \n",
       "e)  U  - 2⋅X_{\\alpha}⋅\\frac{\\partial{}e}{\\partial{}X_{\\alpha}} - 2⋅X_{\\beta}⋅\\\n",
       "──  ──────────────────────────────────────────────────────────────────────────\n",
       "                                                                  2           \n",
       "                                                                 U ⋅\\frac{\\par\n",
       "\n",
       "   -2                                                                         \n",
       "   ───                                                                        \n",
       "     2                                                                        \n",
       "    U                                                                         \n",
       "                                                                              \n",
       "X_{\\alpha}                                                                    \n",
       "──────────                                                                    \n",
       "   2                                                                          \n",
       "  U ⋅ρ                                                                        \n",
       "                                                                              \n",
       "⋅X_{\\beta}                                                                    \n",
       "──────────                                                                    \n",
       "    2                                                                         \n",
       "   U ⋅ρ                                                                       \n",
       "                                                                              \n",
       "                                                                              \n",
       "frac{\\partial{}e}{\\partial{}X_{\\beta}} + 2⋅\\frac{\\partial{}e}{\\partial\\rho}⋅ρ \n",
       "──────────────────────────────────────────────────────────────────────────────\n",
       "                                                                              \n",
       "tial{}e}{\\partial{}T}⋅ρ                                                       \n",
       "\n",
       "     ⎤\n",
       "     ⎥\n",
       "     ⎥\n",
       "     ⎥\n",
       "     ⎥\n",
       "     ⎥\n",
       "     ⎥\n",
       "     ⎥\n",
       "     ⎥\n",
       "     ⎥\n",
       "     ⎥\n",
       "     ⎥\n",
       "     ⎥\n",
       "     ⎥\n",
       "     ⎥\n",
       "     ⎥\n",
       "+ 2⋅e⎥\n",
       "─────⎥\n",
       "     ⎥\n",
       "     ⎦"
      ]
     },
     "execution_count": 5,
     "metadata": {},
     "output_type": "execute_result"
    }
   ],
   "source": [
    "simplify(A.inv())"
   ]
  },
  {
   "cell_type": "markdown",
   "metadata": {},
   "source": [
    "\n",
    "Compare to the form of the matrix with total energy in the full SDC algorithm"
   ]
  },
  {
   "cell_type": "code",
   "execution_count": 6,
   "metadata": {},
   "outputs": [],
   "source": [
    "A = Matrix(\n",
    "    [[1, 0, 0, 0],\n",
    "     [Xa, r, 0, 0],\n",
    "     [Xb, 0, r, 0],\n",
    "     [e + r*dedr + Rational(1, 2)*U**2, r*dedXa, r*dedXb, r*dedT]])"
   ]
  },
  {
   "cell_type": "code",
   "execution_count": 7,
   "metadata": {},
   "outputs": [
    {
     "data": {
      "image/png": "[encoded data removed]",
      "text/latex": [
       "$$\\left[\\begin{matrix}1 & 0 & 0 & 0\\\\X_{\\alpha} & \\rho & 0 & 0\\\\X_{\\beta} & 0 & \\rho & 0\\\\\\frac{U^{2}}{2} + \\frac{\\partial{}e}{\\partial\\rho} \\rho + e & \\frac{\\partial{}e}{\\partial{}X_{\\alpha}} \\rho & \\frac{\\partial{}e}{\\partial{}X_{\\beta}} \\rho & \\frac{\\partial{}e}{\\partial{}T} \\rho\\end{matrix}\\right]$$"
      ],
      "text/plain": [
       "⎡                     1                                           0           \n",
       "⎢                                                                             \n",
       "⎢                X_{\\alpha}                                       ρ           \n",
       "⎢                                                                             \n",
       "⎢                 X_{\\beta}                                       0           \n",
       "⎢                                                                             \n",
       "⎢ 2                                                                           \n",
       "⎢U                                                                            \n",
       "⎢── + \\frac{\\partial{}e}{\\partial\\rho}⋅ρ + e  \\frac{\\partial{}e}{\\partial{}X_{\n",
       "⎣2                                                                            \n",
       "\n",
       "                                0                                      0      \n",
       "                                                                              \n",
       "                                0                                      0      \n",
       "                                                                              \n",
       "                                ρ                                      0      \n",
       "                                                                              \n",
       "                                                                              \n",
       "                                                                              \n",
       "\\alpha}}⋅ρ  \\frac{\\partial{}e}{\\partial{}X_{\\beta}}⋅ρ  \\frac{\\partial{}e}{\\par\n",
       "                                                                              \n",
       "\n",
       "          ⎤\n",
       "          ⎥\n",
       "          ⎥\n",
       "          ⎥\n",
       "          ⎥\n",
       "          ⎥\n",
       "          ⎥\n",
       "          ⎥\n",
       "tial{}T}⋅ρ⎥\n",
       "          ⎦"
      ]
     },
     "execution_count": 7,
     "metadata": {},
     "output_type": "execute_result"
    }
   ],
   "source": [
    "A"
   ]
  },
  {
   "cell_type": "code",
   "execution_count": 8,
   "metadata": {},
   "outputs": [
    {
     "data": {
      "image/png": "[encoded data removed]",
      "text/latex": [
       "$$\\left[\\begin{matrix}1 & 0 & 0 & 0\\\\- \\frac{X_{\\alpha}}{\\rho} & \\frac{1}{\\rho} & 0 & 0\\\\- \\frac{X_{\\beta}}{\\rho} & 0 & \\frac{1}{\\rho} & 0\\\\\\frac{- \\frac{U^{2}}{2} + X_{\\alpha} \\frac{\\partial{}e}{\\partial{}X_{\\alpha}} + X_{\\beta} \\frac{\\partial{}e}{\\partial{}X_{\\beta}} - \\frac{\\partial{}e}{\\partial\\rho} \\rho - e}{\\frac{\\partial{}e}{\\partial{}T} \\rho} & - \\frac{\\frac{\\partial{}e}{\\partial{}X_{\\alpha}}}{\\frac{\\partial{}e}{\\partial{}T} \\rho} & - \\frac{\\frac{\\partial{}e}{\\partial{}X_{\\beta}}}{\\frac{\\partial{}e}{\\partial{}T} \\rho} & \\frac{1}{\\frac{\\partial{}e}{\\partial{}T} \\rho}\\end{matrix}\\right]$$"
      ],
      "text/plain": [
       "⎡                                                                           1 \n",
       "⎢                                                                             \n",
       "⎢                                                                     -X_{\\alp\n",
       "⎢                                                                     ────────\n",
       "⎢                                                                          ρ  \n",
       "⎢                                                                             \n",
       "⎢                                                                      -X_{\\be\n",
       "⎢                                                                      ───────\n",
       "⎢                                                                           ρ \n",
       "⎢                                                                             \n",
       "⎢   2                                                                         \n",
       "⎢  U                                                                          \n",
       "⎢- ── + X_{\\alpha}⋅\\frac{\\partial{}e}{\\partial{}X_{\\alpha}} + X_{\\beta}⋅\\frac{\n",
       "⎢  2                                                                          \n",
       "⎢─────────────────────────────────────────────────────────────────────────────\n",
       "⎣                                                           \\frac{\\partial{}e}\n",
       "\n",
       "                                                                              \n",
       "                                                                              \n",
       "ha}                                                                           \n",
       "────                                                                          \n",
       "                                                                              \n",
       "                                                                              \n",
       "ta}                                                                           \n",
       "────                                                                          \n",
       "                                                                              \n",
       "                                                                              \n",
       "                                                                              \n",
       "                                                                              \n",
       "\\partial{}e}{\\partial{}X_{\\beta}} - \\frac{\\partial{}e}{\\partial\\rho}⋅ρ - e    \n",
       "                                                                            -\\\n",
       "──────────────────────────────────────────────────────────────────────────  ──\n",
       "{\\partial{}T}⋅ρ                                                               \n",
       "\n",
       "                  0                                           0               \n",
       "                                                                              \n",
       "                  1                                                           \n",
       "                  ─                                           0               \n",
       "                  ρ                                                           \n",
       "                                                                              \n",
       "                                                              1               \n",
       "                  0                                           ─               \n",
       "                                                              ρ               \n",
       "                                                                              \n",
       "                                                                              \n",
       "                                                                              \n",
       "                                                                              \n",
       "frac{\\partial{}e}{\\partial{}X_{\\alpha}}   -\\frac{\\partial{}e}{\\partial{}X_{\\be\n",
       "────────────────────────────────────────  ────────────────────────────────────\n",
       "  \\frac{\\partial{}e}{\\partial{}T}⋅ρ           \\frac{\\partial{}e}{\\partial{}T}⋅\n",
       "\n",
       "                       0                ⎤\n",
       "                                        ⎥\n",
       "                                        ⎥\n",
       "                       0                ⎥\n",
       "                                        ⎥\n",
       "                                        ⎥\n",
       "                                        ⎥\n",
       "                       0                ⎥\n",
       "                                        ⎥\n",
       "                                        ⎥\n",
       "                                        ⎥\n",
       "                                        ⎥\n",
       "                                        ⎥\n",
       "ta}}                   1                ⎥\n",
       "─────  ─────────────────────────────────⎥\n",
       "ρ      \\frac{\\partial{}e}{\\partial{}T}⋅ρ⎦"
      ]
     },
     "execution_count": 8,
     "metadata": {},
     "output_type": "execute_result"
    }
   ],
   "source": [
    "simplify(A.inv())"
   ]
  },
  {
   "cell_type": "markdown",
   "metadata": {},
   "source": [
    "## Second Attempt\n",
    "\n",
    "This adds rho to $\\mathcal{U}$ and the kinetic energy to $w$:\n",
    "\n",
    "$\\mathcal{U} = (\\rho, \\rho_\\alpha, \\rho X_\\beta, \\rho E, \\rho e)^\\intercal$\n",
    "\n",
    "$w = (\\rho, X_\\alpha, X_\\beta, K, T)^\\intercal$\n"
   ]
  },
  {
   "cell_type": "code",
   "execution_count": 9,
   "metadata": {},
   "outputs": [],
   "source": [
    "A = Matrix(\n",
    "    [[1, 0, 0, 0, 0],\n",
    "     [Xa, r, 0, 0, 0],\n",
    "     [Xb, 0, r, 0, 0],\n",
    "     [e + r*dedr + K, r*dedXa, r*dedXb, r, r*dedT],     \n",
    "     [e + r*dedr, r*dedXa, r*dedXb, 0, r*dedT]])"
   ]
  },
  {
   "cell_type": "code",
   "execution_count": 10,
   "metadata": {},
   "outputs": [
    {
     "data": {
      "image/png": "[encoded data removed]",
      "text/latex": [
       "$$\\left[\\begin{matrix}1 & 0 & 0 & 0 & 0\\\\X_{\\alpha} & \\rho & 0 & 0 & 0\\\\X_{\\beta} & 0 & \\rho & 0 & 0\\\\K + \\frac{\\partial{}e}{\\partial\\rho} \\rho + e & \\frac{\\partial{}e}{\\partial{}X_{\\alpha}} \\rho & \\frac{\\partial{}e}{\\partial{}X_{\\beta}} \\rho & \\rho & \\frac{\\partial{}e}{\\partial{}T} \\rho\\\\\\frac{\\partial{}e}{\\partial\\rho} \\rho + e & \\frac{\\partial{}e}{\\partial{}X_{\\alpha}} \\rho & \\frac{\\partial{}e}{\\partial{}X_{\\beta}} \\rho & 0 & \\frac{\\partial{}e}{\\partial{}T} \\rho\\end{matrix}\\right]$$"
      ],
      "text/plain": [
       "⎡                    1                                           0            \n",
       "⎢                                                                             \n",
       "⎢                X_{\\alpha}                                      ρ            \n",
       "⎢                                                                             \n",
       "⎢                X_{\\beta}                                       0            \n",
       "⎢                                                                             \n",
       "⎢K + \\frac{\\partial{}e}{\\partial\\rho}⋅ρ + e  \\frac{\\partial{}e}{\\partial{}X_{\\\n",
       "⎢                                                                             \n",
       "⎣  \\frac{\\partial{}e}{\\partial\\rho}⋅ρ + e    \\frac{\\partial{}e}{\\partial{}X_{\\\n",
       "\n",
       "                               0                      0                  0    \n",
       "                                                                              \n",
       "                               0                      0                  0    \n",
       "                                                                              \n",
       "                               ρ                      0                  0    \n",
       "                                                                              \n",
       "alpha}}⋅ρ  \\frac{\\partial{}e}{\\partial{}X_{\\beta}}⋅ρ  ρ  \\frac{\\partial{}e}{\\p\n",
       "                                                                              \n",
       "alpha}}⋅ρ  \\frac{\\partial{}e}{\\partial{}X_{\\beta}}⋅ρ  0  \\frac{\\partial{}e}{\\p\n",
       "\n",
       "            ⎤\n",
       "            ⎥\n",
       "            ⎥\n",
       "            ⎥\n",
       "            ⎥\n",
       "            ⎥\n",
       "artial{}T}⋅ρ⎥\n",
       "            ⎥\n",
       "artial{}T}⋅ρ⎦"
      ]
     },
     "execution_count": 10,
     "metadata": {},
     "output_type": "execute_result"
    }
   ],
   "source": [
    "A"
   ]
  },
  {
   "cell_type": "code",
   "execution_count": 11,
   "metadata": {},
   "outputs": [
    {
     "data": {
      "image/png": "[encoded data removed]",
      "text/latex": [
       "$$\\left[\\begin{matrix}1 & 0 & 0 & 0 & 0\\\\- \\frac{X_{\\alpha}}{\\rho} & \\frac{1}{\\rho} & 0 & 0 & 0\\\\- \\frac{X_{\\beta}}{\\rho} & 0 & \\frac{1}{\\rho} & 0 & 0\\\\- \\frac{K}{\\rho} & 0 & 0 & \\frac{1}{\\rho} & - \\frac{1}{\\rho}\\\\\\frac{X_{\\alpha} \\frac{\\partial{}e}{\\partial{}X_{\\alpha}} + X_{\\beta} \\frac{\\partial{}e}{\\partial{}X_{\\beta}} - \\frac{\\partial{}e}{\\partial\\rho} \\rho - e}{\\frac{\\partial{}e}{\\partial{}T} \\rho} & - \\frac{\\frac{\\partial{}e}{\\partial{}X_{\\alpha}}}{\\frac{\\partial{}e}{\\partial{}T} \\rho} & - \\frac{\\frac{\\partial{}e}{\\partial{}X_{\\beta}}}{\\frac{\\partial{}e}{\\partial{}T} \\rho} & 0 & \\frac{1}{\\frac{\\partial{}e}{\\partial{}T} \\rho}\\end{matrix}\\right]$$"
      ],
      "text/plain": [
       "⎡                                                                       1     \n",
       "⎢                                                                             \n",
       "⎢                                                                  -X_{\\alpha}\n",
       "⎢                                                                  ───────────\n",
       "⎢                                                                       ρ     \n",
       "⎢                                                                             \n",
       "⎢                                                                  -X_{\\beta} \n",
       "⎢                                                                  ───────────\n",
       "⎢                                                                       ρ     \n",
       "⎢                                                                             \n",
       "⎢                                                                      -K     \n",
       "⎢                                                                      ───    \n",
       "⎢                                                                       ρ     \n",
       "⎢                                                                             \n",
       "⎢X_{\\alpha}⋅\\frac{\\partial{}e}{\\partial{}X_{\\alpha}} + X_{\\beta}⋅\\frac{\\partia\n",
       "⎢─────────────────────────────────────────────────────────────────────────────\n",
       "⎣                                                       \\frac{\\partial{}e}{\\pa\n",
       "\n",
       "                                                                              \n",
       "                                                                              \n",
       "                                                                              \n",
       "─                                                                             \n",
       "                                                                              \n",
       "                                                                              \n",
       "                                                                              \n",
       "                                                                              \n",
       "                                                                              \n",
       "                                                                              \n",
       "                                                                              \n",
       "                                                                              \n",
       "                                                                              \n",
       "                                                                              \n",
       "l{}e}{\\partial{}X_{\\beta}} - \\frac{\\partial{}e}{\\partial\\rho}⋅ρ - e  -\\frac{\\p\n",
       "───────────────────────────────────────────────────────────────────  ─────────\n",
       "rtial{}T}⋅ρ                                                              \\frac\n",
       "\n",
       "           0                                           0                      \n",
       "                                                                              \n",
       "           1                                                                  \n",
       "           ─                                           0                      \n",
       "           ρ                                                                  \n",
       "                                                                              \n",
       "                                                       1                      \n",
       "           0                                           ─                      \n",
       "                                                       ρ                      \n",
       "                                                                              \n",
       "                                                                              \n",
       "           0                                           0                      \n",
       "                                                                              \n",
       "                                                                              \n",
       "artial{}e}{\\partial{}X_{\\alpha}}   -\\frac{\\partial{}e}{\\partial{}X_{\\beta}}   \n",
       "─────────────────────────────────  ─────────────────────────────────────────  \n",
       "{\\partial{}e}{\\partial{}T}⋅ρ           \\frac{\\partial{}e}{\\partial{}T}⋅ρ      \n",
       "\n",
       "0                  0                ⎤\n",
       "                                    ⎥\n",
       "                                    ⎥\n",
       "0                  0                ⎥\n",
       "                                    ⎥\n",
       "                                    ⎥\n",
       "                                    ⎥\n",
       "0                  0                ⎥\n",
       "                                    ⎥\n",
       "                                    ⎥\n",
       "1                 -1                ⎥\n",
       "─                 ───               ⎥\n",
       "ρ                  ρ                ⎥\n",
       "                                    ⎥\n",
       "                   1                ⎥\n",
       "0  ─────────────────────────────────⎥\n",
       "   \\frac{\\partial{}e}{\\partial{}T}⋅ρ⎦"
      ]
     },
     "execution_count": 11,
     "metadata": {},
     "output_type": "execute_result"
    }
   ],
   "source": [
    "simplify(A.inv())"
   ]
  },
  {
   "cell_type": "code",
   "execution_count": null,
   "metadata": {},
   "outputs": [],
   "source": []
  }
 ],
 "metadata": {
  "kernelspec": {
   "display_name": "Python 3",
   "language": "python",
   "name": "python3"
  },
  "language_info": {
   "codemirror_mode": {
    "name": "ipython",
    "version": 3
   },
   "file_extension": ".py",
   "mimetype": "text/x-python",
   "name": "python",
   "nbconvert_exporter": "python",
   "pygments_lexer": "ipython3",
   "version": "3.7.7"
  }
 },
 "nbformat": 4,
 "nbformat_minor": 4
}
