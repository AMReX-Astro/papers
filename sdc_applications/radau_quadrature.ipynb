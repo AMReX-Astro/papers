{
 "cells": [
  {
   "cell_type": "markdown",
   "metadata": {},
   "source": [
    "# Derivations for the Radau Quadrature Expressions\n",
    "\n",
    "This notebook contains the various derivations of the Radau quadrature for use in the Castro SDC solver"
   ]
  },
  {
   "cell_type": "code",
   "execution_count": 1,
   "metadata": {},
   "outputs": [
    {
     "name": "stdout",
     "output_type": "stream",
     "text": [
      "IPython console for SymPy 1.4 (Python 3.7.4-64-bit) (ground types: gmpy)\n",
      "\n",
      "These commands were executed:\n",
      ">>> from __future__ import division\n",
      ">>> from sympy import *\n",
      ">>> x, y, z, t = symbols('x y z t')\n",
      ">>> k, m, n = symbols('k m n', integer=True)\n",
      ">>> f, g, h = symbols('f g h', cls=Function)\n",
      ">>> init_printing()\n",
      "\n",
      "Documentation can be found at https://docs.sympy.org/1.4/\n",
      "\n"
     ]
    }
   ],
   "source": [
    "from sympy import init_session\n",
    "init_session()"
   ]
  },
  {
   "cell_type": "markdown",
   "metadata": {},
   "source": [
    "## 2nd Order Radau Formula\n",
    "\n",
    "For the 2nd order solver, use three points in time, $t^n$, $t^n + \\delta t/3$, and $t^n + \\delta t$ and we want to do an integral over these that is second order accurate.  \n",
    "\n",
    "The interpolant that fits through this is\n",
    "\n",
    "$$p(t) = \\frac{3}{2} \\frac{\\phi_2 - \\phi_1}{\\delta t} (t - t_1) + \\phi_1$$\n",
    "\n",
    "We then compute the integrals under this line from $[t_0, t_1]$ and $[t_1, t_2]$."
   ]
  },
  {
   "cell_type": "code",
   "execution_count": 2,
   "metadata": {},
   "outputs": [],
   "source": [
    "# define the symbols we need\n",
    "p0, p1, p2 = symbols(\"phi_0 phi_1 phi_2\")\n",
    "tau = symbols(\"tau\")\n",
    "t, t1 = symbols(\"t t_1\")"
   ]
  },
  {
   "cell_type": "markdown",
   "metadata": {},
   "source": [
    "Here is our polynomial, taking t1 = tau/3"
   ]
  },
  {
   "cell_type": "code",
   "execution_count": 3,
   "metadata": {},
   "outputs": [
    {
     "data": {
      "image/png": "[encoded data removed]",
      "text/latex": [
       "$\\displaystyle \\phi_{1} + \\frac{\\left(- \\frac{3 \\phi_{1}}{2} + \\frac{3 \\phi_{2}}{2}\\right) \\left(t - \\frac{\\tau}{3}\\right)}{\\tau}$"
      ],
      "text/plain": [
       "     ⎛  3⋅φ₁   3⋅φ₂⎞ ⎛    τ⎞\n",
       "     ⎜- ──── + ────⎟⋅⎜t - ─⎟\n",
       "     ⎝   2      2  ⎠ ⎝    3⎠\n",
       "φ₁ + ───────────────────────\n",
       "                τ           "
      ]
     },
     "execution_count": 3,
     "metadata": {},
     "output_type": "execute_result"
    }
   ],
   "source": [
    "p = Rational(3,2)*(p2-p1)/tau * (t - Rational(1,3)*tau) + p1\n",
    "p"
   ]
  },
  {
   "cell_type": "markdown",
   "metadata": {},
   "source": [
    "### Construct the integrals\n",
    "\n",
    "We integrate over each half of the time domain.  First we compute integral from $t_0$ to $t_1$"
   ]
  },
  {
   "cell_type": "code",
   "execution_count": 4,
   "metadata": {},
   "outputs": [],
   "source": [
    "q1 = integrate(p, (t, 0, Rational(1,3)*tau))"
   ]
  },
  {
   "cell_type": "code",
   "execution_count": 5,
   "metadata": {},
   "outputs": [
    {
     "data": {
      "image/png": "[encoded data removed]",
      "text/latex": [
       "$\\displaystyle \\frac{\\tau \\left(5 \\phi_{1} - \\phi_{2}\\right)}{12}$"
      ],
      "text/plain": [
       "τ⋅(5⋅φ₁ - φ₂)\n",
       "─────────────\n",
       "      12     "
      ]
     },
     "execution_count": 5,
     "metadata": {},
     "output_type": "execute_result"
    }
   ],
   "source": [
    "simplify(q1)"
   ]
  },
  {
   "cell_type": "markdown",
   "metadata": {},
   "source": [
    "Next we compute the integral from $t_1$ to $t_2$"
   ]
  },
  {
   "cell_type": "code",
   "execution_count": 6,
   "metadata": {},
   "outputs": [],
   "source": [
    "q2 = integrate(p, (t, Rational(1,3)*tau, tau))"
   ]
  },
  {
   "cell_type": "code",
   "execution_count": 7,
   "metadata": {},
   "outputs": [
    {
     "data": {
      "image/png": "[encoded data removed]",
      "text/latex": [
       "$\\displaystyle \\frac{\\tau \\left(\\phi_{1} + \\phi_{2}\\right)}{3}$"
      ],
      "text/plain": [
       "τ⋅(φ₁ + φ₂)\n",
       "───────────\n",
       "     3     "
      ]
     },
     "execution_count": 7,
     "metadata": {},
     "output_type": "execute_result"
    }
   ],
   "source": [
    "simplify(q2)"
   ]
  },
  {
   "cell_type": "markdown",
   "metadata": {},
   "source": [
    "Over the total time range, [0, $\\tau$]"
   ]
  },
  {
   "cell_type": "code",
   "execution_count": 8,
   "metadata": {},
   "outputs": [
    {
     "data": {
      "image/png": "[encoded data removed]",
      "text/latex": [
       "$\\displaystyle \\frac{\\tau \\left(3 \\phi_{1} + \\phi_{2}\\right)}{4}$"
      ],
      "text/plain": [
       "τ⋅(3⋅φ₁ + φ₂)\n",
       "─────────────\n",
       "      4      "
      ]
     },
     "execution_count": 8,
     "metadata": {},
     "output_type": "execute_result"
    }
   ],
   "source": [
    "simplify(q1 + q2)"
   ]
  },
  {
   "cell_type": "markdown",
   "metadata": {},
   "source": [
    "## 4th order Radau\n",
    "\n",
    "Now we want to fit a parabola to the three points\n",
    "\n",
    "$$t_1 = \\frac{4 - \\sqrt{6}}{10} \\tau$$\n",
    "$$t_2 = \\frac{4 + \\sqrt{6}}{10} \\tau$$\n",
    "$$t_3 = \\tau$$\n",
    "\n",
    "and then the integral is\n",
    "$$I(\\phi) \\sim w_1 \\phi(t_1) + w_2 \\phi(t_2) + w_3 \\phi(t_3)$$\n",
    "\n",
    "with weights\n",
    "\n",
    "$$w_1 = \\frac{16 - \\sqrt{6}}{36}$$\n",
    "$$w_2 = \\frac{16 + \\sqrt{6}}{36}$$\n",
    "$$w_3 = \\frac{1}{9}$$"
   ]
  },
  {
   "cell_type": "code",
   "execution_count": 9,
   "metadata": {},
   "outputs": [],
   "source": [
    "nodes = {1: Rational(1,10)*(4-sqrt(6))*tau, 2: Rational(1,10)*(4+sqrt(6))*tau, 3: tau}\n",
    "weights = {1: Rational(1,36)*(16-sqrt(6)), 2: Rational(1,36)*(16+sqrt(6)), 3: Rational(1,9)}"
   ]
  },
  {
   "cell_type": "code",
   "execution_count": 10,
   "metadata": {},
   "outputs": [
    {
     "data": {
      "image/png": "[encoded data removed]",
      "text/latex": [
       "$\\displaystyle \\left\\{ 1 : \\tau \\left(\\frac{2}{5} - \\frac{\\sqrt{6}}{10}\\right), \\  2 : \\tau \\left(\\frac{\\sqrt{6}}{10} + \\frac{2}{5}\\right), \\  3 : \\tau\\right\\}$"
      ],
      "text/plain": [
       "⎧     ⎛2   √6⎞       ⎛√6   2⎞      ⎫\n",
       "⎨1: τ⋅⎜─ - ──⎟, 2: τ⋅⎜── + ─⎟, 3: τ⎬\n",
       "⎩     ⎝5   10⎠       ⎝10   5⎠      ⎭"
      ]
     },
     "execution_count": 10,
     "metadata": {},
     "output_type": "execute_result"
    }
   ],
   "source": [
    "nodes"
   ]
  },
  {
   "cell_type": "code",
   "execution_count": 11,
   "metadata": {},
   "outputs": [
    {
     "data": {
      "image/png": "[encoded data removed]",
      "text/latex": [
       "$\\displaystyle \\left\\{ 1 : \\frac{4}{9} - \\frac{\\sqrt{6}}{36}, \\  2 : \\frac{\\sqrt{6}}{36} + \\frac{4}{9}, \\  3 : \\frac{1}{9}\\right\\}$"
      ],
      "text/plain": [
       "⎧   4   √6     √6   4        ⎫\n",
       "⎨1: ─ - ──, 2: ── + ─, 3: 1/9⎬\n",
       "⎩   9   36     36   9        ⎭"
      ]
     },
     "execution_count": 11,
     "metadata": {},
     "output_type": "execute_result"
    }
   ],
   "source": [
    "weights"
   ]
  },
  {
   "cell_type": "markdown",
   "metadata": {},
   "source": [
    "Now let's fit a parabola through the data at the time nodes and get the coefficients of the parabola"
   ]
  },
  {
   "cell_type": "code",
   "execution_count": 12,
   "metadata": {},
   "outputs": [],
   "source": [
    "A, B, C = symbols(\"A B C\")\n",
    "p1, p2, p3 = symbols(\"phi_1 phi_2 phi_3\")\n",
    "t1 = symbols(\"t_1\")"
   ]
  },
  {
   "cell_type": "code",
   "execution_count": 13,
   "metadata": {},
   "outputs": [],
   "source": [
    "p = A*(t - t1)**2 + B*(t - t1) + C"
   ]
  },
  {
   "cell_type": "code",
   "execution_count": 14,
   "metadata": {},
   "outputs": [
    {
     "data": {
      "image/png": "[encoded data removed]",
      "text/latex": [
       "$\\displaystyle \\left\\{ A : \\frac{5 \\left(- \\phi_{1} + \\sqrt{6} \\phi_{1} - \\sqrt{6} \\phi_{2} - \\phi_{2} + 2 \\phi_{3}\\right)}{3 \\tau^{2}}, \\  B : \\frac{- 20 \\phi_{1} t_{1} + 20 \\sqrt{6} \\phi_{1} t_{1} - 13 \\sqrt{6} \\phi_{1} \\tau + 8 \\phi_{1} \\tau - 20 \\sqrt{6} \\phi_{2} t_{1} - 20 \\phi_{2} t_{1} + 8 \\phi_{2} \\tau + 13 \\sqrt{6} \\phi_{2} \\tau + 40 \\phi_{3} t_{1} - 16 \\phi_{3} \\tau}{6 \\tau^{2}}, \\  C : \\frac{- 10 \\phi_{1} t_{1}^{2} + 10 \\sqrt{6} \\phi_{1} t_{1}^{2} - 13 \\sqrt{6} \\phi_{1} t_{1} \\tau + 8 \\phi_{1} t_{1} \\tau + 2 \\phi_{1} \\tau^{2} + 3 \\sqrt{6} \\phi_{1} \\tau^{2} - 10 \\sqrt{6} \\phi_{2} t_{1}^{2} - 10 \\phi_{2} t_{1}^{2} + 8 \\phi_{2} t_{1} \\tau + 13 \\sqrt{6} \\phi_{2} t_{1} \\tau - 3 \\sqrt{6} \\phi_{2} \\tau^{2} + 2 \\phi_{2} \\tau^{2} + 20 \\phi_{3} t_{1}^{2} - 16 \\phi_{3} t_{1} \\tau + 2 \\phi_{3} \\tau^{2}}{6 \\tau^{2}}\\right\\}$"
      ],
      "text/plain": [
       "⎧                                                                             \n",
       "⎪   5⋅(-φ₁ + √6⋅φ₁ - √6⋅φ₂ - φ₂ + 2⋅φ₃)     -20⋅φ₁⋅t₁ + 20⋅√6⋅φ₁⋅t₁ - 13⋅√6⋅φ₁\n",
       "⎨A: ───────────────────────────────────, B: ──────────────────────────────────\n",
       "⎪                      2                                                      \n",
       "⎩                   3⋅τ                                                       \n",
       "\n",
       "                                                                              \n",
       "⋅τ + 8⋅φ₁⋅τ - 20⋅√6⋅φ₂⋅t₁ - 20⋅φ₂⋅t₁ + 8⋅φ₂⋅τ + 13⋅√6⋅φ₂⋅τ + 40⋅φ₃⋅t₁ - 16⋅φ₃⋅\n",
       "──────────────────────────────────────────────────────────────────────────────\n",
       "                        2                                                     \n",
       "                     6⋅τ                                                      \n",
       "\n",
       "                2              2                                     2        \n",
       "τ     - 10⋅φ₁⋅t₁  + 10⋅√6⋅φ₁⋅t₁  - 13⋅√6⋅φ₁⋅t₁⋅τ + 8⋅φ₁⋅t₁⋅τ + 2⋅φ₁⋅τ  + 3⋅√6⋅\n",
       "─, C: ────────────────────────────────────────────────────────────────────────\n",
       "                                                                              \n",
       "                                                                              \n",
       "\n",
       "    2              2           2                                        2     \n",
       "φ₁⋅τ  - 10⋅√6⋅φ₂⋅t₁  - 10⋅φ₂⋅t₁  + 8⋅φ₂⋅t₁⋅τ + 13⋅√6⋅φ₂⋅t₁⋅τ - 3⋅√6⋅φ₂⋅τ  + 2⋅\n",
       "──────────────────────────────────────────────────────────────────────────────\n",
       "                        2                                                     \n",
       "                     6⋅τ                                                      \n",
       "\n",
       "    2           2                      2⎫\n",
       "φ₂⋅τ  + 20⋅φ₃⋅t₁  - 16⋅φ₃⋅t₁⋅τ + 2⋅φ₃⋅τ ⎪\n",
       "────────────────────────────────────────⎬\n",
       "                                        ⎪\n",
       "                                        ⎭"
      ]
     },
     "execution_count": 14,
     "metadata": {},
     "output_type": "execute_result"
    }
   ],
   "source": [
    "coeffs = solve([p.subs(t, nodes[1])-p1, p.subs(t, nodes[2])-p2, p.subs(t, nodes[3])-p3], [A,B,C], check=False)\n",
    "coeffs"
   ]
  },
  {
   "cell_type": "markdown",
   "metadata": {},
   "source": [
    "Now rewrite the polynomial with these coefficients"
   ]
  },
  {
   "cell_type": "code",
   "execution_count": 15,
   "metadata": {},
   "outputs": [
    {
     "data": {
      "image/png": "[encoded data removed]",
      "text/latex": [
       "$\\displaystyle \\frac{5 \\left(t - t_{1}\\right)^{2} \\left(- \\phi_{1} + \\sqrt{6} \\phi_{1} - \\sqrt{6} \\phi_{2} - \\phi_{2} + 2 \\phi_{3}\\right)}{3 \\tau^{2}} + \\frac{\\left(t - t_{1}\\right) \\left(- 20 \\phi_{1} t_{1} + 20 \\sqrt{6} \\phi_{1} t_{1} - 13 \\sqrt{6} \\phi_{1} \\tau + 8 \\phi_{1} \\tau - 20 \\sqrt{6} \\phi_{2} t_{1} - 20 \\phi_{2} t_{1} + 8 \\phi_{2} \\tau + 13 \\sqrt{6} \\phi_{2} \\tau + 40 \\phi_{3} t_{1} - 16 \\phi_{3} \\tau\\right)}{6 \\tau^{2}} + \\frac{- 10 \\phi_{1} t_{1}^{2} + 10 \\sqrt{6} \\phi_{1} t_{1}^{2} - 13 \\sqrt{6} \\phi_{1} t_{1} \\tau + 8 \\phi_{1} t_{1} \\tau + 2 \\phi_{1} \\tau^{2} + 3 \\sqrt{6} \\phi_{1} \\tau^{2} - 10 \\sqrt{6} \\phi_{2} t_{1}^{2} - 10 \\phi_{2} t_{1}^{2} + 8 \\phi_{2} t_{1} \\tau + 13 \\sqrt{6} \\phi_{2} t_{1} \\tau - 3 \\sqrt{6} \\phi_{2} \\tau^{2} + 2 \\phi_{2} \\tau^{2} + 20 \\phi_{3} t_{1}^{2} - 16 \\phi_{3} t_{1} \\tau + 2 \\phi_{3} \\tau^{2}}{6 \\tau^{2}}$"
      ],
      "text/plain": [
       "          2                                                                   \n",
       "5⋅(t - t₁) ⋅(-φ₁ + √6⋅φ₁ - √6⋅φ₂ - φ₂ + 2⋅φ₃)   (t - t₁)⋅(-20⋅φ₁⋅t₁ + 20⋅√6⋅φ₁\n",
       "───────────────────────────────────────────── + ──────────────────────────────\n",
       "                        2                                                     \n",
       "                     3⋅τ                                                      \n",
       "\n",
       "                                                                              \n",
       "⋅t₁ - 13⋅√6⋅φ₁⋅τ + 8⋅φ₁⋅τ - 20⋅√6⋅φ₂⋅t₁ - 20⋅φ₂⋅t₁ + 8⋅φ₂⋅τ + 13⋅√6⋅φ₂⋅τ + 40⋅\n",
       "──────────────────────────────────────────────────────────────────────────────\n",
       "                                 2                                            \n",
       "                              6⋅τ                                             \n",
       "\n",
       "                             2              2                                 \n",
       "φ₃⋅t₁ - 16⋅φ₃⋅τ)   - 10⋅φ₁⋅t₁  + 10⋅√6⋅φ₁⋅t₁  - 13⋅√6⋅φ₁⋅t₁⋅τ + 8⋅φ₁⋅t₁⋅τ + 2⋅\n",
       "──────────────── + ───────────────────────────────────────────────────────────\n",
       "                                                                              \n",
       "                                                                              \n",
       "\n",
       "    2            2              2           2                                 \n",
       "φ₁⋅τ  + 3⋅√6⋅φ₁⋅τ  - 10⋅√6⋅φ₂⋅t₁  - 10⋅φ₂⋅t₁  + 8⋅φ₂⋅t₁⋅τ + 13⋅√6⋅φ₂⋅t₁⋅τ - 3⋅\n",
       "──────────────────────────────────────────────────────────────────────────────\n",
       "                                     2                                        \n",
       "                                  6⋅τ                                         \n",
       "\n",
       "       2         2           2                      2\n",
       "√6⋅φ₂⋅τ  + 2⋅φ₂⋅τ  + 20⋅φ₃⋅t₁  - 16⋅φ₃⋅t₁⋅τ + 2⋅φ₃⋅τ \n",
       "─────────────────────────────────────────────────────\n",
       "                                                     \n",
       "                                                     "
      ]
     },
     "execution_count": 15,
     "metadata": {},
     "output_type": "execute_result"
    }
   ],
   "source": [
    "pp = coeffs[A]*(t - t1)**2 + coeffs[B]*(t - t1) + coeffs[C]\n",
    "pp"
   ]
  },
  {
   "cell_type": "markdown",
   "metadata": {},
   "source": [
    "### Construct the integrals"
   ]
  },
  {
   "cell_type": "code",
   "execution_count": 16,
   "metadata": {},
   "outputs": [
    {
     "data": {
      "image/png": "[encoded data removed]",
      "text/latex": [
       "$\\displaystyle \\frac{\\tau \\left(- \\sqrt{6} \\phi_{1} + 16 \\phi_{1} + \\sqrt{6} \\phi_{2} + 16 \\phi_{2} + 4 \\phi_{3}\\right)}{36}$"
      ],
      "text/plain": [
       "τ⋅(-√6⋅φ₁ + 16⋅φ₁ + √6⋅φ₂ + 16⋅φ₂ + 4⋅φ₃)\n",
       "─────────────────────────────────────────\n",
       "                    36                   "
      ]
     },
     "execution_count": 16,
     "metadata": {},
     "output_type": "execute_result"
    }
   ],
   "source": [
    "q = integrate(pp, (t, 0, tau))\n",
    "simplify(q)"
   ]
  },
  {
   "cell_type": "markdown",
   "metadata": {},
   "source": [
    "This is the expected integral over the whole time range"
   ]
  },
  {
   "cell_type": "markdown",
   "metadata": {},
   "source": [
    "Integral from $[0, t_1]$"
   ]
  },
  {
   "cell_type": "code",
   "execution_count": 17,
   "metadata": {},
   "outputs": [
    {
     "data": {
      "image/png": "[encoded data removed]",
      "text/latex": [
       "$\\displaystyle \\frac{\\tau \\left(- 35 \\sqrt{6} \\phi_{1} + 440 \\phi_{1} - 169 \\sqrt{6} \\phi_{2} + 296 \\phi_{2} - 16 \\phi_{3} + 24 \\sqrt{6} \\phi_{3}\\right)}{1800}$"
      ],
      "text/plain": [
       "τ⋅(-35⋅√6⋅φ₁ + 440⋅φ₁ - 169⋅√6⋅φ₂ + 296⋅φ₂ - 16⋅φ₃ + 24⋅√6⋅φ₃)\n",
       "──────────────────────────────────────────────────────────────\n",
       "                             1800                             "
      ]
     },
     "execution_count": 17,
     "metadata": {},
     "output_type": "execute_result"
    }
   ],
   "source": [
    "q1 = integrate(pp, (t, 0, nodes[1]))\n",
    "simplify(q1)"
   ]
  },
  {
   "cell_type": "markdown",
   "metadata": {},
   "source": [
    "integral from $[t_1, t_2]$"
   ]
  },
  {
   "cell_type": "code",
   "execution_count": 18,
   "metadata": {},
   "outputs": [
    {
     "data": {
      "image/png": "[encoded data removed]",
      "text/latex": [
       "$\\displaystyle \\frac{\\tau \\left(- 12 \\phi_{1} + 17 \\sqrt{6} \\phi_{1} + 12 \\phi_{2} + 17 \\sqrt{6} \\phi_{2} - 4 \\sqrt{6} \\phi_{3}\\right)}{150}$"
      ],
      "text/plain": [
       "τ⋅(-12⋅φ₁ + 17⋅√6⋅φ₁ + 12⋅φ₂ + 17⋅√6⋅φ₂ - 4⋅√6⋅φ₃)\n",
       "──────────────────────────────────────────────────\n",
       "                       150                        "
      ]
     },
     "execution_count": 18,
     "metadata": {},
     "output_type": "execute_result"
    }
   ],
   "source": [
    "q2 = integrate(pp, (t, nodes[1], nodes[2]))\n",
    "simplify(q2)"
   ]
  },
  {
   "cell_type": "markdown",
   "metadata": {},
   "source": [
    "integral from $[t_2, t_3]$"
   ]
  },
  {
   "cell_type": "code",
   "execution_count": 19,
   "metadata": {},
   "outputs": [
    {
     "data": {
      "image/png": "[encoded data removed]",
      "text/latex": [
       "$\\displaystyle \\frac{\\tau \\left(- 73 \\sqrt{6} \\phi_{1} + 168 \\phi_{1} + 5 \\sqrt{6} \\phi_{2} + 120 \\phi_{2} + 8 \\sqrt{6} \\phi_{3} + 72 \\phi_{3}\\right)}{600}$"
      ],
      "text/plain": [
       "τ⋅(-73⋅√6⋅φ₁ + 168⋅φ₁ + 5⋅√6⋅φ₂ + 120⋅φ₂ + 8⋅√6⋅φ₃ + 72⋅φ₃)\n",
       "───────────────────────────────────────────────────────────\n",
       "                            600                            "
      ]
     },
     "execution_count": 19,
     "metadata": {},
     "output_type": "execute_result"
    }
   ],
   "source": [
    "q3 = integrate(pp, (t, nodes[2], nodes[3]))\n",
    "simplify(q3)"
   ]
  },
  {
   "cell_type": "code",
   "execution_count": 20,
   "metadata": {},
   "outputs": [
    {
     "data": {
      "image/png": "[encoded data removed]",
      "text/latex": [
       "$\\displaystyle \\frac{\\tau \\left(- \\sqrt{6} \\phi_{1} + 16 \\phi_{1} + \\sqrt{6} \\phi_{2} + 16 \\phi_{2} + 4 \\phi_{3}\\right)}{36}$"
      ],
      "text/plain": [
       "τ⋅(-√6⋅φ₁ + 16⋅φ₁ + √6⋅φ₂ + 16⋅φ₂ + 4⋅φ₃)\n",
       "─────────────────────────────────────────\n",
       "                    36                   "
      ]
     },
     "execution_count": 20,
     "metadata": {},
     "output_type": "execute_result"
    }
   ],
   "source": [
    "simplify(q1 + q2 + q3)"
   ]
  },
  {
   "cell_type": "code",
   "execution_count": null,
   "metadata": {},
   "outputs": [],
   "source": []
  }
 ],
 "metadata": {
  "kernelspec": {
   "display_name": "Python 3",
   "language": "python",
   "name": "python3"
  },
  "language_info": {
   "codemirror_mode": {
    "name": "ipython",
    "version": 3
   },
   "file_extension": ".py",
   "mimetype": "text/x-python",
   "name": "python",
   "nbconvert_exporter": "python",
   "pygments_lexer": "ipython3",
   "version": "3.7.5"
  }
 },
 "nbformat": 4,
 "nbformat_minor": 4
}
